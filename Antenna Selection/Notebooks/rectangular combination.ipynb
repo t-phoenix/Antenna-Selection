{
 "cells": [
  {
   "cell_type": "code",
   "execution_count": null,
   "metadata": {},
   "outputs": [],
   "source": [
    "def same_row(num1,num2, row_length):\n",
    "    if (num1%row_length) !=0 :\n",
    "        if (num2%row_length !=0) and int(num1/row_length) == int(num2/row_length) :\n",
    "            return True\n",
    "        elif (num2%row_length ==0) and int(num1/row_length) == (int(num2/row_length)-1):\n",
    "            return True\n",
    "    else:\n",
    "        return False\n",
    "    \n",
    "    \n",
    "def same_column(num1, num2 , row_length):\n",
    "    if (num1%row_length) == (num2%row_length) :\n",
    "        return True\n",
    "    else:\n",
    "        return False\n",
    "\n",
    "def rectangularComb(arr, row_length):\n",
    "    #print(row_length)\n",
    "    if same_row(arr[0],arr[1],row_length) and same_row(arr[2],arr[3],row_length) and same_column(arr[0],arr[2],row_length) and same_column(arr[1],arr[3],row_length):   \n",
    "        return True\n",
    "    else:\n",
    "        return False\n",
    "    \n",
    "\n",
    "    \n",
    "    \n",
    "rectangularcombinations=[]        \n",
    "for elem in l:\n",
    "    if rectangularComb(elem,m_column) == True:\n",
    "        rectangularcombinations.append(elem)\n",
    "        \n",
    "for elem in rectangularcombinations:\n",
    "    print(elem)        "
   ]
  }
 ],
 "metadata": {
  "kernelspec": {
   "display_name": "Python 3",
   "language": "python",
   "name": "python3"
  },
  "language_info": {
   "codemirror_mode": {
    "name": "ipython",
    "version": 3
   },
   "file_extension": ".py",
   "mimetype": "text/x-python",
   "name": "python",
   "nbconvert_exporter": "python",
   "pygments_lexer": "ipython3",
   "version": "3.7.0"
  }
 },
 "nbformat": 4,
 "nbformat_minor": 2
}

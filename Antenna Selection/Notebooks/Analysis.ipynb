{
 "cells": [
  {
   "cell_type": "code",
   "execution_count": 1,
   "metadata": {},
   "outputs": [],
   "source": [
    "import math\n",
    "import cmath\n",
    "from itertools import combinations\n",
    "import pandas as pd\n",
    "import numpy as np\n",
    "import matplotlib.pyplot as plt "
   ]
  },
  {
   "cell_type": "code",
   "execution_count": 2,
   "metadata": {},
   "outputs": [],
   "source": [
    "m_row= 2\n",
    "m_column = 4"
   ]
  },
  {
   "cell_type": "code",
   "execution_count": 3,
   "metadata": {},
   "outputs": [
    {
     "name": "stdout",
     "output_type": "stream",
     "text": [
      "1  2  3  4\n",
      "5  6  7  8\n"
     ]
    }
   ],
   "source": [
    "a= [[0]*m_column for i in range(m_row)]\n",
    "m=1\n",
    "for i in range(m_row):\n",
    "    for j in range(m_column):\n",
    "        a[i][j]=m\n",
    "        m =m+1\n",
    "\n",
    "for row in a:\n",
    "    print('  '.join([str(elem) for elem in row]))"
   ]
  },
  {
   "cell_type": "code",
   "execution_count": 4,
   "metadata": {},
   "outputs": [
    {
     "name": "stdout",
     "output_type": "stream",
     "text": [
      "[1, 2, 3, 4, 5, 6, 7, 8]\n"
     ]
    }
   ],
   "source": [
    "p=1\n",
    "n = m_row * m_column\n",
    "antenna_array=[[0]*1 for i in range(n)]\n",
    "for k in range(n):\n",
    "    antenna_array[k] = p\n",
    "    p=p+1\n",
    "          \n",
    "print(antenna_array)"
   ]
  },
  {
   "cell_type": "code",
   "execution_count": 5,
   "metadata": {},
   "outputs": [
    {
     "name": "stdout",
     "output_type": "stream",
     "text": [
      "1 2 3 4 \n",
      "1 2 3 5 \n",
      "1 2 3 6 \n",
      "1 2 3 7 \n",
      "1 2 3 8 \n",
      "1 2 4 5 \n",
      "1 2 4 6 \n",
      "1 2 4 7 \n",
      "1 2 4 8 \n",
      "1 2 5 6 \n",
      "1 2 5 7 \n",
      "1 2 5 8 \n",
      "1 2 6 7 \n",
      "1 2 6 8 \n",
      "1 2 7 8 \n",
      "1 3 4 5 \n",
      "1 3 4 6 \n",
      "1 3 4 7 \n",
      "1 3 4 8 \n",
      "1 3 5 6 \n",
      "1 3 5 7 \n",
      "1 3 5 8 \n",
      "1 3 6 7 \n",
      "1 3 6 8 \n",
      "1 3 7 8 \n",
      "1 4 5 6 \n",
      "1 4 5 7 \n",
      "1 4 5 8 \n",
      "1 4 6 7 \n",
      "1 4 6 8 \n",
      "1 4 7 8 \n",
      "1 5 6 7 \n",
      "1 5 6 8 \n",
      "1 5 7 8 \n",
      "1 6 7 8 \n",
      "2 3 4 5 \n",
      "2 3 4 6 \n",
      "2 3 4 7 \n",
      "2 3 4 8 \n",
      "2 3 5 6 \n",
      "2 3 5 7 \n",
      "2 3 5 8 \n",
      "2 3 6 7 \n",
      "2 3 6 8 \n",
      "2 3 7 8 \n",
      "2 4 5 6 \n",
      "2 4 5 7 \n",
      "2 4 5 8 \n",
      "2 4 6 7 \n",
      "2 4 6 8 \n",
      "2 4 7 8 \n",
      "2 5 6 7 \n",
      "2 5 6 8 \n",
      "2 5 7 8 \n",
      "2 6 7 8 \n",
      "3 4 5 6 \n",
      "3 4 5 7 \n",
      "3 4 5 8 \n",
      "3 4 6 7 \n",
      "3 4 6 8 \n",
      "3 4 7 8 \n",
      "3 5 6 7 \n",
      "3 5 6 8 \n",
      "3 5 7 8 \n",
      "3 6 7 8 \n",
      "4 5 6 7 \n",
      "4 5 6 8 \n",
      "4 5 7 8 \n",
      "4 6 7 8 \n",
      "5 6 7 8 \n"
     ]
    }
   ],
   "source": [
    "def printCombination(arr, n, r): \n",
    "      \n",
    "    data = [0]*r; \n",
    "\n",
    "    combinationUtil(arr, data, 0,  \n",
    "                    n - 1, 0, r); \n",
    "\n",
    "def combinationUtil(arr, data, start, end, index, r): \n",
    "    l1=[]\n",
    "    if (index == r): \n",
    "        for j in range(r):\n",
    "            l1.append(data[j])\n",
    "            print(data[j], end = \" \"); \n",
    "    \n",
    "        l.append(l1)    \n",
    "        print(); \n",
    "        return; \n",
    "    l1=[]\n",
    "    \n",
    "    i = start;  \n",
    "    while(i <= end and end - i + 1 >= r - index): \n",
    "        data[index] = arr[i]; \n",
    "        combinationUtil(arr, data, i + 1,  \n",
    "                        end, index + 1, r); \n",
    "        i += 1; \n",
    "  \n",
    "# Driver Code \n",
    "r = 4; \n",
    "n = len(antenna_array); \n",
    "l=list()\n",
    "\n",
    "printCombination(antenna_array, n, r); "
   ]
  },
  {
   "cell_type": "code",
   "execution_count": 6,
   "metadata": {},
   "outputs": [
    {
     "name": "stdout",
     "output_type": "stream",
     "text": [
      "[1, 2, 3, 4]\n",
      "[1, 2, 3, 5]\n",
      "[1, 2, 3, 6]\n",
      "[1, 2, 3, 7]\n",
      "[1, 2, 3, 8]\n",
      "[1, 2, 4, 5]\n",
      "[1, 2, 4, 6]\n",
      "[1, 2, 4, 7]\n",
      "[1, 2, 4, 8]\n",
      "[1, 2, 5, 6]\n",
      "[1, 2, 5, 7]\n",
      "[1, 2, 5, 8]\n",
      "[1, 2, 6, 7]\n",
      "[1, 2, 6, 8]\n",
      "[1, 2, 7, 8]\n",
      "[1, 3, 4, 5]\n",
      "[1, 3, 4, 6]\n",
      "[1, 3, 4, 7]\n",
      "[1, 3, 4, 8]\n",
      "[1, 3, 5, 6]\n",
      "[1, 3, 5, 7]\n",
      "[1, 3, 5, 8]\n",
      "[1, 3, 6, 7]\n",
      "[1, 3, 6, 8]\n",
      "[1, 3, 7, 8]\n",
      "[1, 4, 5, 6]\n",
      "[1, 4, 5, 7]\n",
      "[1, 4, 5, 8]\n",
      "[1, 4, 6, 7]\n",
      "[1, 4, 6, 8]\n",
      "[1, 4, 7, 8]\n",
      "[1, 5, 6, 7]\n",
      "[1, 5, 6, 8]\n",
      "[1, 5, 7, 8]\n",
      "[1, 6, 7, 8]\n",
      "[2, 3, 4, 5]\n",
      "[2, 3, 4, 6]\n",
      "[2, 3, 4, 7]\n",
      "[2, 3, 4, 8]\n",
      "[2, 3, 5, 6]\n",
      "[2, 3, 5, 7]\n",
      "[2, 3, 5, 8]\n",
      "[2, 3, 6, 7]\n",
      "[2, 3, 6, 8]\n",
      "[2, 3, 7, 8]\n",
      "[2, 4, 5, 6]\n",
      "[2, 4, 5, 7]\n",
      "[2, 4, 5, 8]\n",
      "[2, 4, 6, 7]\n",
      "[2, 4, 6, 8]\n",
      "[2, 4, 7, 8]\n",
      "[2, 5, 6, 7]\n",
      "[2, 5, 6, 8]\n",
      "[2, 5, 7, 8]\n",
      "[2, 6, 7, 8]\n",
      "[3, 4, 5, 6]\n",
      "[3, 4, 5, 7]\n",
      "[3, 4, 5, 8]\n",
      "[3, 4, 6, 7]\n",
      "[3, 4, 6, 8]\n",
      "[3, 4, 7, 8]\n",
      "[3, 5, 6, 7]\n",
      "[3, 5, 6, 8]\n",
      "[3, 5, 7, 8]\n",
      "[3, 6, 7, 8]\n",
      "[4, 5, 6, 7]\n",
      "[4, 5, 6, 8]\n",
      "[4, 5, 7, 8]\n",
      "[4, 6, 7, 8]\n",
      "[5, 6, 7, 8]\n"
     ]
    }
   ],
   "source": [
    "for elem in l:\n",
    "    print(elem)"
   ]
  },
  {
   "cell_type": "code",
   "execution_count": 7,
   "metadata": {},
   "outputs": [
    {
     "name": "stdout",
     "output_type": "stream",
     "text": [
      "[(0, 0), (1, 0), (2, 0), (3, 0)]\n",
      "[(0, 0), (1, 0), (2, 0), (0, 1)]\n",
      "[(0, 0), (1, 0), (2, 0), (1, 1)]\n",
      "[(0, 0), (1, 0), (2, 0), (2, 1)]\n",
      "[(0, 0), (1, 0), (2, 0), (3, 1)]\n",
      "[(0, 0), (1, 0), (3, 0), (0, 1)]\n",
      "[(0, 0), (1, 0), (3, 0), (1, 1)]\n",
      "[(0, 0), (1, 0), (3, 0), (2, 1)]\n",
      "[(0, 0), (1, 0), (3, 0), (3, 1)]\n",
      "[(0, 0), (1, 0), (0, 1), (1, 1)]\n",
      "[(0, 0), (1, 0), (0, 1), (2, 1)]\n",
      "[(0, 0), (1, 0), (0, 1), (3, 1)]\n",
      "[(0, 0), (1, 0), (1, 1), (2, 1)]\n",
      "[(0, 0), (1, 0), (1, 1), (3, 1)]\n",
      "[(0, 0), (1, 0), (2, 1), (3, 1)]\n",
      "[(0, 0), (2, 0), (3, 0), (0, 1)]\n",
      "[(0, 0), (2, 0), (3, 0), (1, 1)]\n",
      "[(0, 0), (2, 0), (3, 0), (2, 1)]\n",
      "[(0, 0), (2, 0), (3, 0), (3, 1)]\n",
      "[(0, 0), (2, 0), (0, 1), (1, 1)]\n",
      "[(0, 0), (2, 0), (0, 1), (2, 1)]\n",
      "[(0, 0), (2, 0), (0, 1), (3, 1)]\n",
      "[(0, 0), (2, 0), (1, 1), (2, 1)]\n",
      "[(0, 0), (2, 0), (1, 1), (3, 1)]\n",
      "[(0, 0), (2, 0), (2, 1), (3, 1)]\n",
      "[(0, 0), (3, 0), (0, 1), (1, 1)]\n",
      "[(0, 0), (3, 0), (0, 1), (2, 1)]\n",
      "[(0, 0), (3, 0), (0, 1), (3, 1)]\n",
      "[(0, 0), (3, 0), (1, 1), (2, 1)]\n",
      "[(0, 0), (3, 0), (1, 1), (3, 1)]\n",
      "[(0, 0), (3, 0), (2, 1), (3, 1)]\n",
      "[(0, 0), (0, 1), (1, 1), (2, 1)]\n",
      "[(0, 0), (0, 1), (1, 1), (3, 1)]\n",
      "[(0, 0), (0, 1), (2, 1), (3, 1)]\n",
      "[(0, 0), (1, 1), (2, 1), (3, 1)]\n",
      "[(1, 0), (2, 0), (3, 0), (0, 1)]\n",
      "[(1, 0), (2, 0), (3, 0), (1, 1)]\n",
      "[(1, 0), (2, 0), (3, 0), (2, 1)]\n",
      "[(1, 0), (2, 0), (3, 0), (3, 1)]\n",
      "[(1, 0), (2, 0), (0, 1), (1, 1)]\n",
      "[(1, 0), (2, 0), (0, 1), (2, 1)]\n",
      "[(1, 0), (2, 0), (0, 1), (3, 1)]\n",
      "[(1, 0), (2, 0), (1, 1), (2, 1)]\n",
      "[(1, 0), (2, 0), (1, 1), (3, 1)]\n",
      "[(1, 0), (2, 0), (2, 1), (3, 1)]\n",
      "[(1, 0), (3, 0), (0, 1), (1, 1)]\n",
      "[(1, 0), (3, 0), (0, 1), (2, 1)]\n",
      "[(1, 0), (3, 0), (0, 1), (3, 1)]\n",
      "[(1, 0), (3, 0), (1, 1), (2, 1)]\n",
      "[(1, 0), (3, 0), (1, 1), (3, 1)]\n",
      "[(1, 0), (3, 0), (2, 1), (3, 1)]\n",
      "[(1, 0), (0, 1), (1, 1), (2, 1)]\n",
      "[(1, 0), (0, 1), (1, 1), (3, 1)]\n",
      "[(1, 0), (0, 1), (2, 1), (3, 1)]\n",
      "[(1, 0), (1, 1), (2, 1), (3, 1)]\n",
      "[(2, 0), (3, 0), (0, 1), (1, 1)]\n",
      "[(2, 0), (3, 0), (0, 1), (2, 1)]\n",
      "[(2, 0), (3, 0), (0, 1), (3, 1)]\n",
      "[(2, 0), (3, 0), (1, 1), (2, 1)]\n",
      "[(2, 0), (3, 0), (1, 1), (3, 1)]\n",
      "[(2, 0), (3, 0), (2, 1), (3, 1)]\n",
      "[(2, 0), (0, 1), (1, 1), (2, 1)]\n",
      "[(2, 0), (0, 1), (1, 1), (3, 1)]\n",
      "[(2, 0), (0, 1), (2, 1), (3, 1)]\n",
      "[(2, 0), (1, 1), (2, 1), (3, 1)]\n",
      "[(3, 0), (0, 1), (1, 1), (2, 1)]\n",
      "[(3, 0), (0, 1), (1, 1), (3, 1)]\n",
      "[(3, 0), (0, 1), (2, 1), (3, 1)]\n",
      "[(3, 0), (1, 1), (2, 1), (3, 1)]\n",
      "[(0, 1), (1, 1), (2, 1), (3, 1)]\n"
     ]
    }
   ],
   "source": [
    "def location(number, m_column):\n",
    "    return x_co(number,m_column), y_co(number,m_column)\n",
    "\n",
    "def x_co(number, m_column):\n",
    "    if number%m_column ==0 :\n",
    "        x = m_column-1\n",
    "    else: \n",
    "        x = (number%m_column)-1\n",
    "    return x\n",
    "\n",
    "def y_co(number,m_column):\n",
    "    if number%m_column ==0:\n",
    "        y = int(number/m_column) -1\n",
    "    else:\n",
    "        y = int(number/m_column)\n",
    "    return y\n",
    "\n",
    "\n",
    "#a= [[0]*m_column for i in range(m_row)]\n",
    "location_list=[]\n",
    "temp_l=[]\n",
    "for elem in l:\n",
    "    for i in elem:\n",
    "        temp_l.append(location(i,m_column))\n",
    "    location_list.append(temp_l)\n",
    "    temp_l=[]\n",
    "        \n",
    "\n",
    "\n",
    "    \n",
    "for elem in location_list:\n",
    "    print(elem)"
   ]
  },
  {
   "cell_type": "code",
   "execution_count": 8,
   "metadata": {},
   "outputs": [
    {
     "name": "stdout",
     "output_type": "stream",
     "text": [
      "(0, 0)\n",
      "(1, 0)\n",
      "(2, 0)\n",
      "(3, 0)\n",
      "(0, 1)\n",
      "(1, 1)\n",
      "(2, 1)\n",
      "(3, 1)\n"
     ]
    }
   ],
   "source": [
    "antenna_location=[]        \n",
    "for elem in antenna_array:\n",
    "    antenna_location.append(location(elem,m_column))\n",
    "    \n",
    "for elem in antenna_location:\n",
    "    print(elem)\n",
    "    \n",
    " "
   ]
  },
  {
   "cell_type": "code",
   "execution_count": null,
   "metadata": {},
   "outputs": [],
   "source": []
  },
  {
   "cell_type": "code",
   "execution_count": 9,
   "metadata": {},
   "outputs": [
    {
     "name": "stderr",
     "output_type": "stream",
     "text": [
      "No handles with labels found to put in legend.\n"
     ]
    },
    {
     "data": {
      "image/png": "[encoded data removed]",
      "text/plain": [
       "<Figure size 432x288 with 1 Axes>"
      ]
     },
     "metadata": {},
     "output_type": "display_data"
    }
   ],
   "source": [
    "theta_x = math.radians(10)\n",
    "phi_x = math.radians(-180)\n",
    "ux=[]\n",
    "phi_l=[]\n",
    "while phi_x <math.radians(180):\n",
    "    phi_l.append(phi_x)\n",
    "    ux.append(math.sin(theta_x)*math.cos(phi_x))\n",
    "    #print(ux)\n",
    "    phi_x = phi_x + math.radians(10)\n",
    "    \n",
    "\n",
    "plt.plot(phi_l, ux ) \n",
    "\n",
    "plt.xlabel('phi') \n",
    "plt.ylabel('ux') \n",
    "  \n",
    "plt.title('phi - Ux') \n",
    "\n",
    "plt.legend()  \n",
    "plt.show()     "
   ]
  },
  {
   "cell_type": "code",
   "execution_count": 10,
   "metadata": {},
   "outputs": [
    {
     "name": "stderr",
     "output_type": "stream",
     "text": [
      "No handles with labels found to put in legend.\n"
     ]
    },
    {
     "data": {
      "image/png": "[encoded data removed]",
      "text/plain": [
       "<Figure size 432x288 with 1 Axes>"
      ]
     },
     "metadata": {},
     "output_type": "display_data"
    },
    {
     "name": "stdout",
     "output_type": "stream",
     "text": [
      "0.25881904510252074\n"
     ]
    }
   ],
   "source": [
    "theta_y = math.radians(15)\n",
    "uy=[]\n",
    "for phi in phi_l:\n",
    "    uy.append(math.sin(theta_y)*math.sin(phi))\n",
    "\n",
    "\n",
    "    \n",
    "plt.plot(phi_l, uy ) \n",
    "\n",
    "plt.xlabel('phi') \n",
    "plt.ylabel('uy') \n",
    "  \n",
    "plt.title('phi - Uy') \n",
    "\n",
    "plt.legend()  \n",
    "plt.show()   \n",
    "print(max(uy))"
   ]
  },
  {
   "cell_type": "code",
   "execution_count": 11,
   "metadata": {},
   "outputs": [
    {
     "name": "stderr",
     "output_type": "stream",
     "text": [
      "No handles with labels found to put in legend.\n"
     ]
    },
    {
     "data": {
      "image/png": "[encoded data removed]",
      "text/plain": [
       "<Figure size 432x288 with 1 Axes>"
      ]
     },
     "metadata": {},
     "output_type": "display_data"
    },
    {
     "name": "stdout",
     "output_type": "stream",
     "text": [
      "0.25881904510252074\n"
     ]
    }
   ],
   "source": [
    "theta_z = math.radians(90)\n",
    "phi_z = math.radians(-180)\n",
    "uz=[]\n",
    "for phi in phi_l:\n",
    "    uz.append(math.cos(theta_z))\n",
    "\n",
    "\n",
    "    \n",
    "plt.plot(phi_l, uz ) \n",
    "\n",
    "plt.xlabel('phi') \n",
    "plt.ylabel('uz') \n",
    "  \n",
    "plt.title('phi - Uz') \n",
    "\n",
    "plt.legend()  \n",
    "plt.show()   \n",
    "print(max(uy))"
   ]
  },
  {
   "cell_type": "code",
   "execution_count": 12,
   "metadata": {},
   "outputs": [],
   "source": [
    "def my_sin_up(M, d, uk, u, wavelength):\n",
    "    k0= 2*math.pi/wavelength     \n",
    "    temp = math.sin((M*k0*d*(uk-u))/2)\n",
    "    return temp"
   ]
  },
  {
   "cell_type": "code",
   "execution_count": 13,
   "metadata": {},
   "outputs": [],
   "source": [
    "def my_sin_down(d,uk,u,wavelength):\n",
    "    k0= 2*math.pi/wavelength\n",
    "    temp= math.sin(k0*d*(uk-u)/2)\n",
    "    return temp"
   ]
  },
  {
   "cell_type": "code",
   "execution_count": 14,
   "metadata": {},
   "outputs": [],
   "source": [
    "sin_up_y=[]\n",
    "sin_down_y=[]\n",
    "sin_up_z=[]\n",
    "sin_down_z=[]"
   ]
  },
  {
   "cell_type": "code",
   "execution_count": 15,
   "metadata": {},
   "outputs": [],
   "source": [
    "#universal variables\n",
    "wavelength=3/520\n",
    "theta_k=math.radians(10)\n",
    "phi_k=math.radians(0)\n",
    "\n",
    "\n",
    "#local variables\n",
    "My=2\n",
    "dy=wavelength/2\n",
    "uky=math.sin(theta_k)*math.sin(phi_k)\n",
    "\n",
    "#print(my_sin_up(4,3/1040,0,0.5,3/520))\n",
    "for u in uy:\n",
    "    sin_up_y.append(my_sin_up(My,dy,uky,u,wavelength))\n",
    "    #print(my_sin_up(My,dy,uky,u,wavelength))\n",
    "    \n",
    "    \n",
    "#print(sin_up_y)    "
   ]
  },
  {
   "cell_type": "code",
   "execution_count": 16,
   "metadata": {},
   "outputs": [
    {
     "name": "stderr",
     "output_type": "stream",
     "text": [
      "No handles with labels found to put in legend.\n"
     ]
    },
    {
     "data": {
      "image/png": "[encoded data removed]",
      "text/plain": [
       "<Figure size 432x288 with 1 Axes>"
      ]
     },
     "metadata": {},
     "output_type": "display_data"
    },
    {
     "name": "stdout",
     "output_type": "stream",
     "text": [
      "0.25881904510252074\n"
     ]
    }
   ],
   "source": [
    "plt.plot(phi_l, sin_up_y ) \n",
    "\n",
    "plt.xlabel('phi') \n",
    "plt.ylabel('sin_up_y') \n",
    "  \n",
    "plt.title('phi - sin_up_y') \n",
    "\n",
    "plt.legend()  \n",
    "plt.show()   \n",
    "print(max(uy))"
   ]
  },
  {
   "cell_type": "code",
   "execution_count": 17,
   "metadata": {},
   "outputs": [
    {
     "name": "stderr",
     "output_type": "stream",
     "text": [
      "No handles with labels found to put in legend.\n"
     ]
    },
    {
     "data": {
      "image/png": "[encoded data removed]",
      "text/plain": [
       "<Figure size 432x288 with 1 Axes>"
      ]
     },
     "metadata": {},
     "output_type": "display_data"
    }
   ],
   "source": [
    "for u in uy:\n",
    "    sin_down_y.append(my_sin_down(dy,uky,u,wavelength))\n",
    "    \n",
    "    \n",
    "plt.plot(phi_l, sin_down_y ) \n",
    "\n",
    "plt.xlabel('phi') \n",
    "plt.ylabel('sin_down_y') \n",
    "  \n",
    "plt.title('phi - sin_down_y') \n",
    "\n",
    "plt.legend()  \n",
    "plt.show()   \n",
    "  "
   ]
  },
  {
   "cell_type": "code",
   "execution_count": 18,
   "metadata": {},
   "outputs": [],
   "source": [
    "#local variables\n",
    "Mz=2\n",
    "dz=wavelength/2\n",
    "ukz=math.cos(math.radians(10))\n",
    "for u in uz:\n",
    "    sin_up_z.append(my_sin_up(Mz,dz,ukz,u,wavelength))\n",
    "    "
   ]
  },
  {
   "cell_type": "code",
   "execution_count": 19,
   "metadata": {},
   "outputs": [
    {
     "name": "stderr",
     "output_type": "stream",
     "text": [
      "No handles with labels found to put in legend.\n"
     ]
    },
    {
     "data": {
      "image/png": "[encoded data removed]",
      "text/plain": [
       "<Figure size 432x288 with 1 Axes>"
      ]
     },
     "metadata": {},
     "output_type": "display_data"
    }
   ],
   "source": [
    "plt.plot(phi_l, sin_up_z ) \n",
    "\n",
    "plt.xlabel('phi') \n",
    "plt.ylabel('sin_up_z') \n",
    "  \n",
    "plt.title('phi - sin_up_z') \n",
    "\n",
    "plt.legend()  \n",
    "plt.show()"
   ]
  },
  {
   "cell_type": "code",
   "execution_count": 20,
   "metadata": {},
   "outputs": [
    {
     "name": "stderr",
     "output_type": "stream",
     "text": [
      "No handles with labels found to put in legend.\n"
     ]
    },
    {
     "data": {
      "image/png": "[encoded data removed]",
      "text/plain": [
       "<Figure size 432x288 with 1 Axes>"
      ]
     },
     "metadata": {},
     "output_type": "display_data"
    }
   ],
   "source": [
    "for u in uz:\n",
    "    sin_down_z.append(my_sin_down(dz,ukz,u,wavelength))\n",
    "    \n",
    "    \n",
    "plt.plot(phi_l, sin_down_z ) \n",
    "\n",
    "plt.xlabel('phi') \n",
    "plt.ylabel('sin_down_z') \n",
    "  \n",
    "plt.title('phi - sin_down_z') \n",
    "\n",
    "plt.legend()  \n",
    "plt.show()   \n"
   ]
  },
  {
   "cell_type": "code",
   "execution_count": null,
   "metadata": {},
   "outputs": [],
   "source": []
  },
  {
   "cell_type": "code",
   "execution_count": null,
   "metadata": {},
   "outputs": [],
   "source": []
  }
 ],
 "metadata": {
  "kernelspec": {
   "display_name": "Python 3",
   "language": "python",
   "name": "python3"
  },
  "language_info": {
   "codemirror_mode": {
    "name": "ipython",
    "version": 3
   },
   "file_extension": ".py",
   "mimetype": "text/x-python",
   "name": "python",
   "nbconvert_exporter": "python",
   "pygments_lexer": "ipython3",
   "version": "3.7.0"
  }
 },
 "nbformat": 4,
 "nbformat_minor": 2
}
